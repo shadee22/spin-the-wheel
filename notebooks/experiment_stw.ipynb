{
  "cells": [
    {
      "cell_type": "code",
      "execution_count": null,
      "metadata": {
        "colab": {
          "base_uri": "https://localhost:8080/"
        },
        "id": "jFte35nbXq6A",
        "outputId": "bc3bddc7-0cdd-4a6b-b7e9-097dd39d8e5b"
      },
      "outputs": [
        {
          "name": "stdout",
          "output_type": "stream",
          "text": [
            "\u001b[2K   \u001b[90m━━━━━━━━━━━━━━━━━━━━━━━━━━━━━━━━━━━━━━━━\u001b[0m \u001b[32m8.7/8.7 MB\u001b[0m \u001b[31m22.5 MB/s\u001b[0m eta \u001b[36m0:00:00\u001b[0m\n",
            "\u001b[2K   \u001b[90m━━━━━━━━━━━━━━━━━━━━━━━━━━━━━━━━━━━━━━━━\u001b[0m \u001b[32m207.3/207.3 kB\u001b[0m \u001b[31m8.0 MB/s\u001b[0m eta \u001b[36m0:00:00\u001b[0m\n",
            "\u001b[2K   \u001b[90m━━━━━━━━━━━━━━━━━━━━━━━━━━━━━━━━━━━━━━━━\u001b[0m \u001b[32m6.9/6.9 MB\u001b[0m \u001b[31m43.8 MB/s\u001b[0m eta \u001b[36m0:00:00\u001b[0m\n",
            "\u001b[2K   \u001b[90m━━━━━━━━━━━━━━━━━━━━━━━━━━━━━━━━━━━━━━━━\u001b[0m \u001b[32m82.9/82.9 kB\u001b[0m \u001b[31m3.5 MB/s\u001b[0m eta \u001b[36m0:00:00\u001b[0m\n",
            "\u001b[2K   \u001b[90m━━━━━━━━━━━━━━━━━━━━━━━━━━━━━━━━━━━━━━━━\u001b[0m \u001b[32m62.7/62.7 kB\u001b[0m \u001b[31m1.1 MB/s\u001b[0m eta \u001b[36m0:00:00\u001b[0m\n",
            "\u001b[?25h"
          ]
        }
      ],
      "source": [
        "!pip install -q streamlit"
      ]
    },
    {
      "cell_type": "code",
      "execution_count": null,
      "metadata": {
        "colab": {
          "base_uri": "https://localhost:8080/"
        },
        "id": "1iiLSWjfXwc6",
        "outputId": "f078d4c7-e5af-4780-8325-355ae2ba7d94"
      },
      "outputs": [
        {
          "name": "stdout",
          "output_type": "stream",
          "text": [
            "Writing app.py\n"
          ]
        }
      ],
      "source": [
        "%%writefile app.py\n",
        "\n",
        "import streamlit as st\n",
        "import numpy as np\n",
        "\n",
        "# Base reward probabilities\n",
        "base_probabilities = {\n",
        "    5: 0.75,    # 75% for reward 5\n",
        "    100: 0.20,  # 20% for reward 100\n",
        "    500: 0.05   # 5% for reward 500\n",
        "}\n",
        "\n",
        "# Function to calculate dynamic reward probabilities\n",
        "def calculate_reward_probability(transaction_amount):\n",
        "    dynamic_probabilities = base_probabilities.copy()\n",
        "\n",
        "    if transaction_amount >= 1000:\n",
        "        scale_factor = transaction_amount / 1000  # Example scaling factor\n",
        "        dynamic_probabilities[5] *= (1 / scale_factor)  # Decrease for lower reward\n",
        "        dynamic_probabilities[100] *= scale_factor       # Increase for mid reward\n",
        "        dynamic_probabilities[500] *= (scale_factor ** 2) # Increase more for highest reward\n",
        "\n",
        "    # Normalize probabilities\n",
        "    total_prob = sum(dynamic_probabilities.values())\n",
        "    for key in dynamic_probabilities:\n",
        "        dynamic_probabilities[key] /= total_prob\n",
        "\n",
        "    return dynamic_probabilities\n",
        "\n",
        "# Function to get reward for a given transaction amount\n",
        "def get_reward(transaction_amount):\n",
        "    probabilities = calculate_reward_probability(transaction_amount)\n",
        "    rewards = list(probabilities.keys())\n",
        "    chosen_reward = np.random.choice(rewards, p=list(probabilities.values()))\n",
        "\n",
        "    return chosen_reward, probabilities[chosen_reward]\n",
        "\n",
        "# Streamlit app\n",
        "st.title(\"Spin the Wheel - Transaction-Based Rewards\")\n",
        "\n",
        "# Input for transaction amount\n",
        "transaction_amount_input = st.number_input(\"Enter the transaction amount (yen)\", min_value=0.0, step=100.0)\n",
        "\n",
        "if transaction_amount_input < 1000:\n",
        "    st.warning(\"Please enter an amount equal to or greater than 1000 yen to qualify for the reward.\")\n",
        "else:\n",
        "    # Get reward based on transaction amount\n",
        "    reward, probability = get_reward(transaction_amount_input)\n",
        "\n",
        "    # Display the reward and probability\n",
        "    st.success(f\"🎉 For a transaction amount of {transaction_amount_input} yen, you won {reward} yen!\")\n",
        "    st.write(f\"Probability of receiving this reward: {probability:.2f}\")\n",
        "\n",
        "    # Display reward probabilities for reference\n",
        "    st.write(\"Here are the reward probabilities based on your transaction amount:\")\n",
        "    probabilities = calculate_reward_probability(transaction_amount_input)\n",
        "    for reward, prob in probabilities.items():\n",
        "        st.write(f\"  Reward {reward} yen: {prob:.2f} probability\")\n",
        "\n"
      ]
    },
    {
      "cell_type": "code",
      "execution_count": null,
      "metadata": {
        "colab": {
          "base_uri": "https://localhost:8080/"
        },
        "id": "ry-ZYAjcXwfs",
        "outputId": "4d368511-a1fd-48b7-af0c-9c8e8afddd66"
      },
      "outputs": [
        {
          "name": "stdout",
          "output_type": "stream",
          "text": [
            "\u001b[K\u001b[?25h\n",
            "added 22 packages, and audited 23 packages in 2s\n",
            "\n",
            "3 packages are looking for funding\n",
            "  run `npm fund` for details\n",
            "\n",
            "2 \u001b[33m\u001b[1mmoderate\u001b[22m\u001b[39m severity vulnerabilities\n",
            "\n",
            "To address all issues, run:\n",
            "  npm audit fix\n",
            "\n",
            "Run `npm audit` for details.\n"
          ]
        }
      ],
      "source": [
        "!npm install localtunnel"
      ]
    },
    {
      "cell_type": "code",
      "execution_count": null,
      "metadata": {
        "id": "Rb-q2dpaYBAl"
      },
      "outputs": [],
      "source": [
        "import urllib"
      ]
    },
    {
      "cell_type": "code",
      "execution_count": null,
      "metadata": {
        "colab": {
          "base_uri": "https://localhost:8080/"
        },
        "id": "LDMMakIEYXNn",
        "outputId": "79b8f077-edd3-4d23-a093-e8955e6e2cf0"
      },
      "outputs": [
        {
          "name": "stdout",
          "output_type": "stream",
          "text": [
            "password/endpoint ip for localtunnel is : 34.46.92.150\n"
          ]
        }
      ],
      "source": [
        "print(\"password/endpoint ip for localtunnel is :\",urllib.request.urlopen('https://ipv4.icanhazip.com').read().decode('utf8').strip('\\n'))"
      ]
    },
    {
      "cell_type": "code",
      "execution_count": null,
      "metadata": {
        "colab": {
          "background_save": true,
          "base_uri": "https://localhost:8080/"
        },
        "id": "RrMkk3pjYFW-",
        "outputId": "fe0c71fa-ef2c-4f76-cb89-9d8abd845668"
      },
      "outputs": [
        {
          "name": "stdout",
          "output_type": "stream",
          "text": [
            "your url is: https://swift-cities-tell.loca.lt\n"
          ]
        }
      ],
      "source": [
        "!streamlit run app.py &>/content/logs.txt & npx localtunnel --port 8501"
      ]
    },
    {
      "cell_type": "code",
      "execution_count": null,
      "metadata": {
        "id": "rGtRluUiYYcM"
      },
      "outputs": [],
      "source": []
    }
  ],
  "metadata": {
    "colab": {
      "provenance": []
    },
    "kernelspec": {
      "display_name": "Python 3",
      "name": "python3"
    },
    "language_info": {
      "name": "python"
    }
  },
  "nbformat": 4,
  "nbformat_minor": 0
}